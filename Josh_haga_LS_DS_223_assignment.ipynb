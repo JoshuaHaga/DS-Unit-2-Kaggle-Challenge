{
  "nbformat": 4,
  "nbformat_minor": 0,
  "metadata": {
    "kernelspec": {
      "display_name": "Python 3",
      "language": "python",
      "name": "python3"
    },
    "language_info": {
      "codemirror_mode": {
        "name": "ipython",
        "version": 3
      },
      "file_extension": ".py",
      "mimetype": "text/x-python",
      "name": "python",
      "nbconvert_exporter": "python",
      "pygments_lexer": "ipython3",
      "version": "3.7.6"
    },
    "colab": {
      "name": "Josh_haga_LS_DS_223_assignment.ipynb",
      "provenance": [],
      "collapsed_sections": [],
      "include_colab_link": true
    }
  },
  "cells": [
    {
      "cell_type": "markdown",
      "metadata": {
        "id": "view-in-github",
        "colab_type": "text"
      },
      "source": [
        "<a href=\"https://colab.research.google.com/github/JoshuaHaga/DS-Unit-2-Kaggle-Challenge/blob/master/Josh_haga_LS_DS_223_assignment.ipynb\" target=\"_parent\"><img src=\"https://colab.research.google.com/assets/colab-badge.svg\" alt=\"Open In Colab\"/></a>"
      ]
    },
    {
      "cell_type": "markdown",
      "metadata": {
        "id": "ow2plGLLkuWe",
        "colab_type": "text"
      },
      "source": [
        "Lambda School Data Science\n",
        "\n",
        "*Unit 2, Sprint 2, Module 3*\n",
        "\n",
        "---"
      ]
    },
    {
      "cell_type": "markdown",
      "metadata": {
        "id": "59gbpysMkuWh",
        "colab_type": "text"
      },
      "source": [
        "# Cross-Validation\n",
        "\n",
        "\n",
        "## Assignment\n",
        "- [ ] [Review requirements for your portfolio project](https://lambdaschool.github.io/ds/unit2), then submit your dataset.\n",
        "- [ ] Continue to participate in our Kaggle challenge. \n",
        "- [ ] Use scikit-learn for hyperparameter optimization with RandomizedSearchCV.\n",
        "- [ ] Submit your predictions to our Kaggle competition. (Go to our Kaggle InClass competition webpage. Use the blue **Submit Predictions** button to upload your CSV file. Or you can use the Kaggle API to submit your predictions.)\n",
        "- [ ] Commit your notebook to your fork of the GitHub repo.\n",
        "\n",
        "\n",
        "**You can't just copy** from the lesson notebook to this assignment.\n",
        "\n",
        "- Because the lesson was **regression**, but the assignment is **classification.**\n",
        "- Because the lesson used [TargetEncoder](https://contrib.scikit-learn.org/categorical-encoding/targetencoder.html), which doesn't work as-is for _multi-class_ classification.\n",
        "\n",
        "So you will have to adapt the example, which is good real-world practice.\n",
        "\n",
        "1. Use a model for classification, such as [RandomForestClassifier](https://scikit-learn.org/stable/modules/generated/sklearn.ensemble.RandomForestClassifier.html)\n",
        "2. Use hyperparameters that match the classifier, such as `randomforestclassifier__ ...`\n",
        "3. Use a metric for classification, such as [`scoring='accuracy'`](https://scikit-learn.org/stable/modules/model_evaluation.html#common-cases-predefined-values)\n",
        "4. If you’re doing a multi-class classification problem — such as whether a waterpump is functional, functional needs repair, or nonfunctional — then use a categorical encoding that works for multi-class classification, such as [OrdinalEncoder](https://contrib.scikit-learn.org/categorical-encoding/ordinal.html) (not [TargetEncoder](https://contrib.scikit-learn.org/categorical-encoding/targetencoder.html))\n",
        "\n",
        "\n",
        "\n",
        "## Stretch Goals\n",
        "\n",
        "### Reading\n",
        "- Jake VanderPlas, [Python Data Science Handbook, Chapter 5.3](https://jakevdp.github.io/PythonDataScienceHandbook/05.03-hyperparameters-and-model-validation.html), Hyperparameters and Model Validation\n",
        "- Jake VanderPlas, [Statistics for Hackers](https://speakerdeck.com/jakevdp/statistics-for-hackers?slide=107)\n",
        "- Ron Zacharski, [A Programmer's Guide to Data Mining, Chapter 5](http://guidetodatamining.com/chapter5/), 10-fold cross validation\n",
        "- Sebastian Raschka, [A Basic Pipeline and Grid Search Setup](https://github.com/rasbt/python-machine-learning-book/blob/master/code/bonus/svm_iris_pipeline_and_gridsearch.ipynb)\n",
        "- Peter Worcester, [A Comparison of Grid Search and Randomized Search Using Scikit Learn](https://blog.usejournal.com/a-comparison-of-grid-search-and-randomized-search-using-scikit-learn-29823179bc85)\n",
        "\n",
        "### Doing\n",
        "- Add your own stretch goals!\n",
        "- Try other [categorical encodings](https://contrib.scikit-learn.org/categorical-encoding/). See the previous assignment notebook for details.\n",
        "- In additon to `RandomizedSearchCV`, scikit-learn has [`GridSearchCV`](https://scikit-learn.org/stable/modules/generated/sklearn.model_selection.GridSearchCV.html). Another library called scikit-optimize has [`BayesSearchCV`](https://scikit-optimize.github.io/notebooks/sklearn-gridsearchcv-replacement.html). Experiment with these alternatives.\n",
        "- _[Introduction to Machine Learning with Python](http://shop.oreilly.com/product/0636920030515.do)_ discusses options for \"Grid-Searching Which Model To Use\" in Chapter 6:\n",
        "\n",
        "> You can even go further in combining GridSearchCV and Pipeline: it is also possible to search over the actual steps being performed in the pipeline (say whether to use StandardScaler or MinMaxScaler). This leads to an even bigger search space and should be considered carefully. Trying all possible solutions is usually not a viable machine learning strategy. However, here is an example comparing a RandomForestClassifier and an SVC ...\n",
        "\n",
        "The example is shown in [the accompanying notebook](https://github.com/amueller/introduction_to_ml_with_python/blob/master/06-algorithm-chains-and-pipelines.ipynb), code cells 35-37. Could you apply this concept to your own pipelines?\n"
      ]
    },
    {
      "cell_type": "markdown",
      "metadata": {
        "id": "TTYjQ2XJkuWk",
        "colab_type": "text"
      },
      "source": [
        "### BONUS: Stacking!\n",
        "\n",
        "Here's some code you can use to \"stack\" multiple submissions, which is another form of ensembling:\n",
        "\n",
        "```python\n",
        "import pandas as pd\n",
        "\n",
        "# Filenames of your submissions you want to ensemble\n",
        "files = ['submission-01.csv', 'submission-02.csv', 'submission-03.csv']\n",
        "\n",
        "target = 'status_group'\n",
        "submissions = (pd.read_csv(file)[[target]] for file in files)\n",
        "ensemble = pd.concat(submissions, axis='columns')\n",
        "majority_vote = ensemble.mode(axis='columns')[0]\n",
        "\n",
        "sample_submission = pd.read_csv('sample_submission.csv')\n",
        "submission = sample_submission.copy()\n",
        "submission[target] = majority_vote\n",
        "submission.to_csv('my-ultimate-ensemble-submission.csv', index=False)\n",
        "```"
      ]
    },
    {
      "cell_type": "code",
      "metadata": {
        "id": "pii5YkRPkuWn",
        "colab_type": "code",
        "colab": {}
      },
      "source": [
        "%%capture\n",
        "import sys\n",
        "\n",
        "# If you're on Colab:\n",
        "if 'google.colab' in sys.modules:\n",
        "    DATA_PATH = 'https://raw.githubusercontent.com/LambdaSchool/DS-Unit-2-Kaggle-Challenge/master/data/'\n",
        "    !pip install category_encoders==2.*\n",
        "\n",
        "# If you're working locally:\n",
        "else:\n",
        "    DATA_PATH = '../data/'"
      ],
      "execution_count": null,
      "outputs": []
    },
    {
      "cell_type": "code",
      "metadata": {
        "id": "jfvRxCOckuW3",
        "colab_type": "code",
        "colab": {}
      },
      "source": [
        "import pandas as pd\n",
        "\n",
        "# Merge train_features.csv & train_labels.csv\n",
        "train = pd.merge(pd.read_csv(DATA_PATH+'waterpumps/train_features.csv'), \n",
        "                 pd.read_csv(DATA_PATH+'waterpumps/train_labels.csv'))\n",
        "\n",
        "# Read test_features.csv & sample_submission.csv\n",
        "test = pd.read_csv(DATA_PATH+'waterpumps/test_features.csv')\n",
        "sample_submission = pd.read_csv(DATA_PATH+'waterpumps/sample_submission.csv')"
      ],
      "execution_count": null,
      "outputs": []
    },
    {
      "cell_type": "markdown",
      "metadata": {
        "id": "sCxralwfkuW9",
        "colab_type": "text"
      },
      "source": [
        "# Imports\n",
        "My imports for my assignment will be added below as they are required"
      ]
    },
    {
      "cell_type": "code",
      "metadata": {
        "id": "j067twc_sivh",
        "colab_type": "code",
        "colab": {
          "base_uri": "https://localhost:8080/",
          "height": 51
        },
        "outputId": "b3083533-a12c-42b7-a7fe-a5df70097ccf"
      },
      "source": [
        "#Imports\n",
        "from pandas_profiling import ProfileReport\n",
        "\n",
        "from sklearn.model_selection import train_test_split, GridSearchCV, RandomizedSearchCV\n",
        "from sklearn.pipeline import make_pipeline\n",
        "from sklearn.impute import SimpleImputer\n",
        "from sklearn.preprocessing import StandardScaler\n",
        "from sklearn.ensemble import RandomForestClassifier\n",
        "from sklearn.feature_selection import SelectKBest\n",
        "\n",
        "from category_encoders import OneHotEncoder, OrdinalEncoder, TargetEncoder\n",
        "\n",
        "import numpy as np\n",
        "from scipy.stats import randint, uniform"
      ],
      "execution_count": null,
      "outputs": [
        {
          "output_type": "stream",
          "text": [
            "/usr/local/lib/python3.6/dist-packages/statsmodels/tools/_testing.py:19: FutureWarning: pandas.util.testing is deprecated. Use the functions in the public API at pandas.testing instead.\n",
            "  import pandas.util.testing as tm\n"
          ],
          "name": "stderr"
        }
      ]
    },
    {
      "cell_type": "markdown",
      "metadata": {
        "id": "qZNqeD3ys0U1",
        "colab_type": "text"
      },
      "source": [
        "# Exploratory Data Analaysis\n",
        "\n",
        "We've been conducting exploratory analysis on the data throughout the week and will be continuing the same cleaning and organization strategy on today's assignment.  Any new EDA that occurs will be done here, and the strategies for using it included below in the `wrangle()` function."
      ]
    },
    {
      "cell_type": "code",
      "metadata": {
        "id": "RmarNxmbtB_x",
        "colab_type": "code",
        "colab": {
          "base_uri": "https://localhost:8080/",
          "height": 411
        },
        "outputId": "becd0f25-d5b2-408f-b062-2885b931cb4e"
      },
      "source": [
        "train.head()"
      ],
      "execution_count": null,
      "outputs": [
        {
          "output_type": "execute_result",
          "data": {
            "text/html": [
              "<div>\n",
              "<style scoped>\n",
              "    .dataframe tbody tr th:only-of-type {\n",
              "        vertical-align: middle;\n",
              "    }\n",
              "\n",
              "    .dataframe tbody tr th {\n",
              "        vertical-align: top;\n",
              "    }\n",
              "\n",
              "    .dataframe thead th {\n",
              "        text-align: right;\n",
              "    }\n",
              "</style>\n",
              "<table border=\"1\" class=\"dataframe\">\n",
              "  <thead>\n",
              "    <tr style=\"text-align: right;\">\n",
              "      <th></th>\n",
              "      <th>id</th>\n",
              "      <th>amount_tsh</th>\n",
              "      <th>date_recorded</th>\n",
              "      <th>funder</th>\n",
              "      <th>gps_height</th>\n",
              "      <th>installer</th>\n",
              "      <th>longitude</th>\n",
              "      <th>latitude</th>\n",
              "      <th>wpt_name</th>\n",
              "      <th>num_private</th>\n",
              "      <th>basin</th>\n",
              "      <th>subvillage</th>\n",
              "      <th>region</th>\n",
              "      <th>region_code</th>\n",
              "      <th>district_code</th>\n",
              "      <th>lga</th>\n",
              "      <th>ward</th>\n",
              "      <th>population</th>\n",
              "      <th>public_meeting</th>\n",
              "      <th>recorded_by</th>\n",
              "      <th>scheme_management</th>\n",
              "      <th>scheme_name</th>\n",
              "      <th>permit</th>\n",
              "      <th>construction_year</th>\n",
              "      <th>extraction_type</th>\n",
              "      <th>extraction_type_group</th>\n",
              "      <th>extraction_type_class</th>\n",
              "      <th>management</th>\n",
              "      <th>management_group</th>\n",
              "      <th>payment</th>\n",
              "      <th>payment_type</th>\n",
              "      <th>water_quality</th>\n",
              "      <th>quality_group</th>\n",
              "      <th>quantity</th>\n",
              "      <th>quantity_group</th>\n",
              "      <th>source</th>\n",
              "      <th>source_type</th>\n",
              "      <th>source_class</th>\n",
              "      <th>waterpoint_type</th>\n",
              "      <th>waterpoint_type_group</th>\n",
              "      <th>status_group</th>\n",
              "    </tr>\n",
              "  </thead>\n",
              "  <tbody>\n",
              "    <tr>\n",
              "      <th>0</th>\n",
              "      <td>69572</td>\n",
              "      <td>6000.0</td>\n",
              "      <td>2011-03-14</td>\n",
              "      <td>Roman</td>\n",
              "      <td>1390</td>\n",
              "      <td>Roman</td>\n",
              "      <td>34.938093</td>\n",
              "      <td>-9.856322</td>\n",
              "      <td>none</td>\n",
              "      <td>0</td>\n",
              "      <td>Lake Nyasa</td>\n",
              "      <td>Mnyusi B</td>\n",
              "      <td>Iringa</td>\n",
              "      <td>11</td>\n",
              "      <td>5</td>\n",
              "      <td>Ludewa</td>\n",
              "      <td>Mundindi</td>\n",
              "      <td>109</td>\n",
              "      <td>True</td>\n",
              "      <td>GeoData Consultants Ltd</td>\n",
              "      <td>VWC</td>\n",
              "      <td>Roman</td>\n",
              "      <td>False</td>\n",
              "      <td>1999</td>\n",
              "      <td>gravity</td>\n",
              "      <td>gravity</td>\n",
              "      <td>gravity</td>\n",
              "      <td>vwc</td>\n",
              "      <td>user-group</td>\n",
              "      <td>pay annually</td>\n",
              "      <td>annually</td>\n",
              "      <td>soft</td>\n",
              "      <td>good</td>\n",
              "      <td>enough</td>\n",
              "      <td>enough</td>\n",
              "      <td>spring</td>\n",
              "      <td>spring</td>\n",
              "      <td>groundwater</td>\n",
              "      <td>communal standpipe</td>\n",
              "      <td>communal standpipe</td>\n",
              "      <td>functional</td>\n",
              "    </tr>\n",
              "    <tr>\n",
              "      <th>1</th>\n",
              "      <td>8776</td>\n",
              "      <td>0.0</td>\n",
              "      <td>2013-03-06</td>\n",
              "      <td>Grumeti</td>\n",
              "      <td>1399</td>\n",
              "      <td>GRUMETI</td>\n",
              "      <td>34.698766</td>\n",
              "      <td>-2.147466</td>\n",
              "      <td>Zahanati</td>\n",
              "      <td>0</td>\n",
              "      <td>Lake Victoria</td>\n",
              "      <td>Nyamara</td>\n",
              "      <td>Mara</td>\n",
              "      <td>20</td>\n",
              "      <td>2</td>\n",
              "      <td>Serengeti</td>\n",
              "      <td>Natta</td>\n",
              "      <td>280</td>\n",
              "      <td>NaN</td>\n",
              "      <td>GeoData Consultants Ltd</td>\n",
              "      <td>Other</td>\n",
              "      <td>NaN</td>\n",
              "      <td>True</td>\n",
              "      <td>2010</td>\n",
              "      <td>gravity</td>\n",
              "      <td>gravity</td>\n",
              "      <td>gravity</td>\n",
              "      <td>wug</td>\n",
              "      <td>user-group</td>\n",
              "      <td>never pay</td>\n",
              "      <td>never pay</td>\n",
              "      <td>soft</td>\n",
              "      <td>good</td>\n",
              "      <td>insufficient</td>\n",
              "      <td>insufficient</td>\n",
              "      <td>rainwater harvesting</td>\n",
              "      <td>rainwater harvesting</td>\n",
              "      <td>surface</td>\n",
              "      <td>communal standpipe</td>\n",
              "      <td>communal standpipe</td>\n",
              "      <td>functional</td>\n",
              "    </tr>\n",
              "    <tr>\n",
              "      <th>2</th>\n",
              "      <td>34310</td>\n",
              "      <td>25.0</td>\n",
              "      <td>2013-02-25</td>\n",
              "      <td>Lottery Club</td>\n",
              "      <td>686</td>\n",
              "      <td>World vision</td>\n",
              "      <td>37.460664</td>\n",
              "      <td>-3.821329</td>\n",
              "      <td>Kwa Mahundi</td>\n",
              "      <td>0</td>\n",
              "      <td>Pangani</td>\n",
              "      <td>Majengo</td>\n",
              "      <td>Manyara</td>\n",
              "      <td>21</td>\n",
              "      <td>4</td>\n",
              "      <td>Simanjiro</td>\n",
              "      <td>Ngorika</td>\n",
              "      <td>250</td>\n",
              "      <td>True</td>\n",
              "      <td>GeoData Consultants Ltd</td>\n",
              "      <td>VWC</td>\n",
              "      <td>Nyumba ya mungu pipe scheme</td>\n",
              "      <td>True</td>\n",
              "      <td>2009</td>\n",
              "      <td>gravity</td>\n",
              "      <td>gravity</td>\n",
              "      <td>gravity</td>\n",
              "      <td>vwc</td>\n",
              "      <td>user-group</td>\n",
              "      <td>pay per bucket</td>\n",
              "      <td>per bucket</td>\n",
              "      <td>soft</td>\n",
              "      <td>good</td>\n",
              "      <td>enough</td>\n",
              "      <td>enough</td>\n",
              "      <td>dam</td>\n",
              "      <td>dam</td>\n",
              "      <td>surface</td>\n",
              "      <td>communal standpipe multiple</td>\n",
              "      <td>communal standpipe</td>\n",
              "      <td>functional</td>\n",
              "    </tr>\n",
              "    <tr>\n",
              "      <th>3</th>\n",
              "      <td>67743</td>\n",
              "      <td>0.0</td>\n",
              "      <td>2013-01-28</td>\n",
              "      <td>Unicef</td>\n",
              "      <td>263</td>\n",
              "      <td>UNICEF</td>\n",
              "      <td>38.486161</td>\n",
              "      <td>-11.155298</td>\n",
              "      <td>Zahanati Ya Nanyumbu</td>\n",
              "      <td>0</td>\n",
              "      <td>Ruvuma / Southern Coast</td>\n",
              "      <td>Mahakamani</td>\n",
              "      <td>Mtwara</td>\n",
              "      <td>90</td>\n",
              "      <td>63</td>\n",
              "      <td>Nanyumbu</td>\n",
              "      <td>Nanyumbu</td>\n",
              "      <td>58</td>\n",
              "      <td>True</td>\n",
              "      <td>GeoData Consultants Ltd</td>\n",
              "      <td>VWC</td>\n",
              "      <td>NaN</td>\n",
              "      <td>True</td>\n",
              "      <td>1986</td>\n",
              "      <td>submersible</td>\n",
              "      <td>submersible</td>\n",
              "      <td>submersible</td>\n",
              "      <td>vwc</td>\n",
              "      <td>user-group</td>\n",
              "      <td>never pay</td>\n",
              "      <td>never pay</td>\n",
              "      <td>soft</td>\n",
              "      <td>good</td>\n",
              "      <td>dry</td>\n",
              "      <td>dry</td>\n",
              "      <td>machine dbh</td>\n",
              "      <td>borehole</td>\n",
              "      <td>groundwater</td>\n",
              "      <td>communal standpipe multiple</td>\n",
              "      <td>communal standpipe</td>\n",
              "      <td>non functional</td>\n",
              "    </tr>\n",
              "    <tr>\n",
              "      <th>4</th>\n",
              "      <td>19728</td>\n",
              "      <td>0.0</td>\n",
              "      <td>2011-07-13</td>\n",
              "      <td>Action In A</td>\n",
              "      <td>0</td>\n",
              "      <td>Artisan</td>\n",
              "      <td>31.130847</td>\n",
              "      <td>-1.825359</td>\n",
              "      <td>Shuleni</td>\n",
              "      <td>0</td>\n",
              "      <td>Lake Victoria</td>\n",
              "      <td>Kyanyamisa</td>\n",
              "      <td>Kagera</td>\n",
              "      <td>18</td>\n",
              "      <td>1</td>\n",
              "      <td>Karagwe</td>\n",
              "      <td>Nyakasimbi</td>\n",
              "      <td>0</td>\n",
              "      <td>True</td>\n",
              "      <td>GeoData Consultants Ltd</td>\n",
              "      <td>NaN</td>\n",
              "      <td>NaN</td>\n",
              "      <td>True</td>\n",
              "      <td>0</td>\n",
              "      <td>gravity</td>\n",
              "      <td>gravity</td>\n",
              "      <td>gravity</td>\n",
              "      <td>other</td>\n",
              "      <td>other</td>\n",
              "      <td>never pay</td>\n",
              "      <td>never pay</td>\n",
              "      <td>soft</td>\n",
              "      <td>good</td>\n",
              "      <td>seasonal</td>\n",
              "      <td>seasonal</td>\n",
              "      <td>rainwater harvesting</td>\n",
              "      <td>rainwater harvesting</td>\n",
              "      <td>surface</td>\n",
              "      <td>communal standpipe</td>\n",
              "      <td>communal standpipe</td>\n",
              "      <td>functional</td>\n",
              "    </tr>\n",
              "  </tbody>\n",
              "</table>\n",
              "</div>"
            ],
            "text/plain": [
              "      id  amount_tsh  ... waterpoint_type_group    status_group\n",
              "0  69572      6000.0  ...    communal standpipe      functional\n",
              "1   8776         0.0  ...    communal standpipe      functional\n",
              "2  34310        25.0  ...    communal standpipe      functional\n",
              "3  67743         0.0  ...    communal standpipe  non functional\n",
              "4  19728         0.0  ...    communal standpipe      functional\n",
              "\n",
              "[5 rows x 41 columns]"
            ]
          },
          "metadata": {
            "tags": []
          },
          "execution_count": 4
        }
      ]
    },
    {
      "cell_type": "markdown",
      "metadata": {
        "id": "tyybMg5us9Lg",
        "colab_type": "text"
      },
      "source": [
        "# Train-Validate-Test Split\n",
        "Split our data into our train-avl-test sets for training and validation"
      ]
    },
    {
      "cell_type": "code",
      "metadata": {
        "id": "BSPNmE_zuZSr",
        "colab_type": "code",
        "colab": {
          "base_uri": "https://localhost:8080/",
          "height": 34
        },
        "outputId": "edbc8ad6-9288-4a0d-a62c-b7664e604608"
      },
      "source": [
        "#Perform our train/test/split on the data\n",
        "train, val  = train_test_split(train, train_size=0.8, test_size=0.2, stratify=train['status_group'], random_state=42)\n",
        "train.shape, val.shape, test.shape"
      ],
      "execution_count": null,
      "outputs": [
        {
          "output_type": "execute_result",
          "data": {
            "text/plain": [
              "((47520, 41), (11880, 41), (14358, 40))"
            ]
          },
          "metadata": {
            "tags": []
          },
          "execution_count": 5
        }
      ]
    },
    {
      "cell_type": "markdown",
      "metadata": {
        "id": "WnvMuqOkucRo",
        "colab_type": "text"
      },
      "source": [
        "# Baseline\n",
        "\n",
        "Determining our Baseline"
      ]
    },
    {
      "cell_type": "code",
      "metadata": {
        "id": "HmLd9Db7uqKM",
        "colab_type": "code",
        "colab": {
          "base_uri": "https://localhost:8080/",
          "height": 85
        },
        "outputId": "0a1dcea2-c21f-4579-a127-628cf392bff8"
      },
      "source": [
        "train['status_group'].value_counts()"
      ],
      "execution_count": null,
      "outputs": [
        {
          "output_type": "execute_result",
          "data": {
            "text/plain": [
              "functional                 25807\n",
              "non functional             18259\n",
              "functional needs repair     3454\n",
              "Name: status_group, dtype: int64"
            ]
          },
          "metadata": {
            "tags": []
          },
          "execution_count": 6
        }
      ]
    },
    {
      "cell_type": "code",
      "metadata": {
        "id": "dw0e7P20u2zu",
        "colab_type": "code",
        "colab": {
          "base_uri": "https://localhost:8080/",
          "height": 34
        },
        "outputId": "a20557b2-4a97-4e0f-8f03-29849804ebf1"
      },
      "source": [
        "baseline = (25807 / (25807 + 18259 + 3454))\n",
        "\n",
        "print('Our naive baseline is: ', baseline)"
      ],
      "execution_count": null,
      "outputs": [
        {
          "output_type": "stream",
          "text": [
            "Our naive baseline is:  0.5430765993265994\n"
          ],
          "name": "stdout"
        }
      ]
    },
    {
      "cell_type": "markdown",
      "metadata": {
        "id": "RRKoLmlFu4-Z",
        "colab_type": "text"
      },
      "source": [
        "# Wrangle our Data\n",
        "\n",
        "Our function for wrangling our data before fitting and validation"
      ]
    },
    {
      "cell_type": "code",
      "metadata": {
        "id": "J9NQ2DFTvXBk",
        "colab_type": "code",
        "colab": {}
      },
      "source": [
        "#Create a function to wrangle our data by fixing the null island values in the geo data as well as \n",
        "#remove any redundant columns\n",
        "def wrangle_data(X):\n",
        "  \"\"\"Function for wrangling all of our data sets in the same manner\"\"\"\n",
        "\n",
        "  #Prevent a SettingWithCopyWarning\n",
        "  X = X.copy()\n",
        "\n",
        "  #Replace the near-0 values in latitude with 0's for easier handling\n",
        "  X['latitude'] = X['latitude'].replace(-2e-08, 0)\n",
        "\n",
        "  #Now we will replace the 0's with null values for easier handling\n",
        "  cols_with_zeros = ['longitude', 'latitude', 'construction_year',\n",
        "                     'gps_height', 'population']\n",
        "  for col in cols_with_zeros:\n",
        "    X[col] = X[col].replace(0, np.nan)\n",
        "    X[col+'_MISSING'] = X[col].isnull()\n",
        "\n",
        "  #Drop redundant or non-useful columns\n",
        "  red_cols = ['quantity_group', 'payment_type', 'recorded_by', 'id']\n",
        "  X = X.drop(columns=red_cols)\n",
        "\n",
        "  #Convert date_recorded to a datetime object\n",
        "  X['date_recorded'] = pd.to_datetime(X['date_recorded'], infer_datetime_format = True)\n",
        "\n",
        "  #Extract the date elements and then drop the original date/time column\n",
        "  X['year_recorded'] = X['date_recorded'].dt.year\n",
        "  X['month_recorded'] = X['date_recorded'].dt.month\n",
        "  X['day_recorded'] = X['date_recorded'].dt.day\n",
        "  X = X.drop(columns='date_recorded')\n",
        "\n",
        "  #Engineering new features\n",
        "  X['years'] = X['year_recorded'] - X['construction_year']\n",
        "  X['years_MISSING'] = X['years'].isnull()\n",
        "\n",
        "  #Return the wrangled dataframe\n",
        "  return X\n"
      ],
      "execution_count": null,
      "outputs": []
    },
    {
      "cell_type": "code",
      "metadata": {
        "id": "q8kSmIs_vYIt",
        "colab_type": "code",
        "colab": {
          "base_uri": "https://localhost:8080/",
          "height": 34
        },
        "outputId": "69a20d8e-872c-4b73-ba3c-546db33d4133"
      },
      "source": [
        "#Perform our wrangling function on our 3 datasets\n",
        "train = wrangle_data(train)\n",
        "val = wrangle_data(val)\n",
        "test = wrangle_data(test)\n",
        "\n",
        "train.shape, val.shape, test.shape"
      ],
      "execution_count": null,
      "outputs": [
        {
          "output_type": "execute_result",
          "data": {
            "text/plain": [
              "((47520, 46), (11880, 46), (14358, 45))"
            ]
          },
          "metadata": {
            "tags": []
          },
          "execution_count": 9
        }
      ]
    },
    {
      "cell_type": "markdown",
      "metadata": {
        "id": "m8A_TJe-vaIG",
        "colab_type": "text"
      },
      "source": [
        "# Select our Features\n",
        "\n",
        "Here we will select our features that we will use in our model, as well as break out our wrangled data into feature sets and target sets "
      ]
    },
    {
      "cell_type": "code",
      "metadata": {
        "id": "j9fbal4jvw7P",
        "colab_type": "code",
        "colab": {
          "base_uri": "https://localhost:8080/",
          "height": 54
        },
        "outputId": "bfbe4b97-8962-41f4-9a58-a0ba0f92d32c"
      },
      "source": [
        "#Our target column\n",
        "target = 'status_group'\n",
        "\n",
        "# Strip out the target and id columns\n",
        "train_features = train.drop(columns=[target])\n",
        "\n",
        "#Get a list of numeric features\n",
        "numeric_features = train_features.select_dtypes(include='number').columns.tolist()\n",
        "\n",
        "#Get a series with the cardinality of the nonnumeric features\n",
        "cardinality = train_features.select_dtypes(exclude='number').nunique()\n",
        "\n",
        "#Create a list of all nonnumerica features with a cardinality <= 50\n",
        "categorical_features = cardinality[cardinality <= 50].index.tolist()\n",
        "\n",
        "#Combine the lists\n",
        "features = numeric_features + categorical_features\n",
        "\n",
        "print(features)"
      ],
      "execution_count": null,
      "outputs": [
        {
          "output_type": "stream",
          "text": [
            "['amount_tsh', 'gps_height', 'longitude', 'latitude', 'num_private', 'region_code', 'district_code', 'population', 'construction_year', 'year_recorded', 'month_recorded', 'day_recorded', 'years', 'basin', 'region', 'public_meeting', 'scheme_management', 'permit', 'extraction_type', 'extraction_type_group', 'extraction_type_class', 'management', 'management_group', 'payment', 'water_quality', 'quality_group', 'quantity', 'source', 'source_type', 'source_class', 'waterpoint_type', 'waterpoint_type_group', 'longitude_MISSING', 'latitude_MISSING', 'construction_year_MISSING', 'gps_height_MISSING', 'population_MISSING', 'years_MISSING']\n"
          ],
          "name": "stdout"
        }
      ]
    },
    {
      "cell_type": "code",
      "metadata": {
        "id": "saHvDPVTv8_f",
        "colab_type": "code",
        "colab": {}
      },
      "source": [
        "# Arrange data into X features matrix and y target vector \n",
        "X_train = train[features]\n",
        "y_train = train[target]\n",
        "X_val = val[features]\n",
        "y_val = val[target]\n",
        "X_test = test[features]"
      ],
      "execution_count": null,
      "outputs": []
    },
    {
      "cell_type": "markdown",
      "metadata": {
        "id": "4XxkllvBv_E2",
        "colab_type": "text"
      },
      "source": [
        "#Create our Pipeline\n",
        "\n",
        "Today we will also want to include cross validation as well as testing for best hyperparamter tuning"
      ]
    },
    {
      "cell_type": "code",
      "metadata": {
        "id": "_dG8nlNRwB_l",
        "colab_type": "code",
        "colab": {
          "base_uri": "https://localhost:8080/",
          "height": 408
        },
        "outputId": "81376aa3-3c5e-4be1-a149-5d303a440c48"
      },
      "source": [
        "#Create our pipeline \n",
        "model = make_pipeline(\n",
        "    OrdinalEncoder(),\n",
        "    SimpleImputer(),\n",
        "    StandardScaler(),\n",
        "    SelectKBest(),\n",
        "    RandomForestClassifier(criterion='entropy')\n",
        ")\n",
        "model"
      ],
      "execution_count": null,
      "outputs": [
        {
          "output_type": "execute_result",
          "data": {
            "text/plain": [
              "Pipeline(memory=None,\n",
              "         steps=[('ordinalencoder',\n",
              "                 OrdinalEncoder(cols=None, drop_invariant=False,\n",
              "                                handle_missing='value', handle_unknown='value',\n",
              "                                mapping=None, return_df=True, verbose=0)),\n",
              "                ('simpleimputer',\n",
              "                 SimpleImputer(add_indicator=False, copy=True, fill_value=None,\n",
              "                               missing_values=nan, strategy='mean',\n",
              "                               verbose=0)),\n",
              "                ('standardscaler',\n",
              "                 StandardScaler(copy=True, with_...\n",
              "                 RandomForestClassifier(bootstrap=True, ccp_alpha=0.0,\n",
              "                                        class_weight=None, criterion='entropy',\n",
              "                                        max_depth=None, max_features='auto',\n",
              "                                        max_leaf_nodes=None, max_samples=None,\n",
              "                                        min_impurity_decrease=0.0,\n",
              "                                        min_impurity_split=None,\n",
              "                                        min_samples_leaf=1, min_samples_split=2,\n",
              "                                        min_weight_fraction_leaf=0.0,\n",
              "                                        n_estimators=100, n_jobs=None,\n",
              "                                        oob_score=False, random_state=None,\n",
              "                                        verbose=0, warm_start=False))],\n",
              "         verbose=False)"
            ]
          },
          "metadata": {
            "tags": []
          },
          "execution_count": 12
        }
      ]
    },
    {
      "cell_type": "code",
      "metadata": {
        "id": "H4ZmS0JC1Ae9",
        "colab_type": "code",
        "colab": {}
      },
      "source": [
        "#Create our parameters\n",
        "param_dist1 = {     \n",
        "    'simpleimputer__strategy': ['mean', 'median'],\n",
        "    'selectkbest__k': range(1, len(X_train.columns)+1),\n",
        "    'randomforestclassifier__n_estimators': randint(50, 500), \n",
        "    'randomforestclassifier__max_depth': [5, 10, 15, 20, 25, 30, 35, 40, None], \n",
        "    'randomforestclassifier__max_features': uniform(0, 1), \n",
        "}"
      ],
      "execution_count": null,
      "outputs": []
    },
    {
      "cell_type": "code",
      "metadata": {
        "id": "zK47P_DMAgRD",
        "colab_type": "code",
        "colab": {}
      },
      "source": [
        "#Create our search\n",
        "search = RandomizedSearchCV(\n",
        "    model,\n",
        "    param_distributions=param_dist1,\n",
        "    n_iter=30,\n",
        "    cv=5,\n",
        "    scoring='accuracy',\n",
        "    verbose=30,\n",
        "    return_train_score=True,\n",
        "    n_jobs=-1\n",
        ")"
      ],
      "execution_count": null,
      "outputs": []
    },
    {
      "cell_type": "code",
      "metadata": {
        "id": "jSAqG3N0BHSe",
        "colab_type": "code",
        "colab": {
          "base_uri": "https://localhost:8080/",
          "height": 1000
        },
        "outputId": "f9a458fa-424b-4011-8814-fa078da39a32"
      },
      "source": [
        "search.fit(X_train, y_train)"
      ],
      "execution_count": null,
      "outputs": [
        {
          "output_type": "stream",
          "text": [
            "Fitting 5 folds for each of 30 candidates, totalling 150 fits\n"
          ],
          "name": "stdout"
        },
        {
          "output_type": "stream",
          "text": [
            "[Parallel(n_jobs=-1)]: Using backend LokyBackend with 2 concurrent workers.\n",
            "[Parallel(n_jobs=-1)]: Done   1 tasks      | elapsed:    8.6s\n",
            "[Parallel(n_jobs=-1)]: Done   2 tasks      | elapsed:   10.3s\n",
            "[Parallel(n_jobs=-1)]: Done   3 tasks      | elapsed:   17.0s\n",
            "[Parallel(n_jobs=-1)]: Done   4 tasks      | elapsed:   18.7s\n",
            "[Parallel(n_jobs=-1)]: Done   5 tasks      | elapsed:   25.1s\n",
            "[Parallel(n_jobs=-1)]: Done   6 tasks      | elapsed:  2.2min\n",
            "/usr/local/lib/python3.6/dist-packages/joblib/externals/loky/process_executor.py:691: UserWarning: A worker stopped while some jobs were given to the executor. This can be caused by a too short worker timeout or by a memory leak.\n",
            "  \"timeout or by a memory leak.\", UserWarning\n",
            "[Parallel(n_jobs=-1)]: Done   7 tasks      | elapsed:  2.2min\n",
            "[Parallel(n_jobs=-1)]: Done   8 tasks      | elapsed:  4.0min\n",
            "[Parallel(n_jobs=-1)]: Done   9 tasks      | elapsed:  4.1min\n",
            "[Parallel(n_jobs=-1)]: Done  10 tasks      | elapsed:  4.4min\n",
            "[Parallel(n_jobs=-1)]: Done  11 tasks      | elapsed:  4.7min\n",
            "[Parallel(n_jobs=-1)]: Done  12 tasks      | elapsed:  5.0min\n",
            "[Parallel(n_jobs=-1)]: Done  13 tasks      | elapsed:  5.3min\n",
            "[Parallel(n_jobs=-1)]: Done  14 tasks      | elapsed:  5.6min\n",
            "[Parallel(n_jobs=-1)]: Done  15 tasks      | elapsed:  5.9min\n",
            "[Parallel(n_jobs=-1)]: Done  16 tasks      | elapsed:  6.0min\n",
            "[Parallel(n_jobs=-1)]: Done  17 tasks      | elapsed:  6.2min\n",
            "[Parallel(n_jobs=-1)]: Done  18 tasks      | elapsed:  6.3min\n",
            "[Parallel(n_jobs=-1)]: Done  19 tasks      | elapsed:  6.6min\n",
            "[Parallel(n_jobs=-1)]: Done  20 tasks      | elapsed:  6.6min\n",
            "[Parallel(n_jobs=-1)]: Done  21 tasks      | elapsed:  7.3min\n",
            "[Parallel(n_jobs=-1)]: Done  22 tasks      | elapsed:  7.4min\n",
            "[Parallel(n_jobs=-1)]: Done  23 tasks      | elapsed:  8.2min\n",
            "[Parallel(n_jobs=-1)]: Done  24 tasks      | elapsed:  8.3min\n",
            "[Parallel(n_jobs=-1)]: Done  25 tasks      | elapsed:  8.9min\n",
            "[Parallel(n_jobs=-1)]: Done  26 tasks      | elapsed:  9.9min\n",
            "[Parallel(n_jobs=-1)]: Done  27 tasks      | elapsed: 10.6min\n",
            "[Parallel(n_jobs=-1)]: Done  28 tasks      | elapsed: 11.6min\n",
            "[Parallel(n_jobs=-1)]: Done  29 tasks      | elapsed: 12.2min\n",
            "[Parallel(n_jobs=-1)]: Done  30 tasks      | elapsed: 13.2min\n",
            "[Parallel(n_jobs=-1)]: Done  31 tasks      | elapsed: 13.5min\n",
            "[Parallel(n_jobs=-1)]: Done  32 tasks      | elapsed: 14.5min\n",
            "[Parallel(n_jobs=-1)]: Done  33 tasks      | elapsed: 14.7min\n",
            "[Parallel(n_jobs=-1)]: Done  34 tasks      | elapsed: 15.7min\n",
            "[Parallel(n_jobs=-1)]: Done  35 tasks      | elapsed: 16.0min\n",
            "[Parallel(n_jobs=-1)]: Done  36 tasks      | elapsed: 17.4min\n",
            "[Parallel(n_jobs=-1)]: Done  37 tasks      | elapsed: 17.6min\n",
            "[Parallel(n_jobs=-1)]: Done  38 tasks      | elapsed: 19.2min\n",
            "[Parallel(n_jobs=-1)]: Done  39 tasks      | elapsed: 19.4min\n",
            "[Parallel(n_jobs=-1)]: Done  40 tasks      | elapsed: 19.6min\n",
            "[Parallel(n_jobs=-1)]: Done  41 tasks      | elapsed: 19.8min\n",
            "[Parallel(n_jobs=-1)]: Done  42 tasks      | elapsed: 20.0min\n",
            "[Parallel(n_jobs=-1)]: Done  43 tasks      | elapsed: 20.2min\n",
            "[Parallel(n_jobs=-1)]: Done  44 tasks      | elapsed: 20.4min\n",
            "[Parallel(n_jobs=-1)]: Done  45 tasks      | elapsed: 20.8min\n",
            "[Parallel(n_jobs=-1)]: Done  46 tasks      | elapsed: 21.3min\n",
            "[Parallel(n_jobs=-1)]: Done  47 tasks      | elapsed: 21.8min\n",
            "[Parallel(n_jobs=-1)]: Done  48 tasks      | elapsed: 22.3min\n",
            "[Parallel(n_jobs=-1)]: Done  49 tasks      | elapsed: 22.7min\n",
            "[Parallel(n_jobs=-1)]: Done  50 tasks      | elapsed: 22.9min\n",
            "[Parallel(n_jobs=-1)]: Done  51 tasks      | elapsed: 23.1min\n",
            "[Parallel(n_jobs=-1)]: Done  52 tasks      | elapsed: 23.2min\n",
            "[Parallel(n_jobs=-1)]: Done  53 tasks      | elapsed: 23.3min\n",
            "[Parallel(n_jobs=-1)]: Done  54 tasks      | elapsed: 23.4min\n",
            "[Parallel(n_jobs=-1)]: Done  55 tasks      | elapsed: 23.5min\n",
            "[Parallel(n_jobs=-1)]: Done  56 tasks      | elapsed: 23.8min\n",
            "[Parallel(n_jobs=-1)]: Done  57 tasks      | elapsed: 23.9min\n",
            "[Parallel(n_jobs=-1)]: Done  58 tasks      | elapsed: 24.2min\n",
            "[Parallel(n_jobs=-1)]: Done  59 tasks      | elapsed: 24.3min\n",
            "[Parallel(n_jobs=-1)]: Done  60 tasks      | elapsed: 24.5min\n",
            "[Parallel(n_jobs=-1)]: Done  61 tasks      | elapsed: 24.6min\n",
            "[Parallel(n_jobs=-1)]: Done  62 tasks      | elapsed: 24.7min\n",
            "[Parallel(n_jobs=-1)]: Done  63 tasks      | elapsed: 24.8min\n",
            "[Parallel(n_jobs=-1)]: Done  64 tasks      | elapsed: 24.9min\n",
            "[Parallel(n_jobs=-1)]: Done  65 tasks      | elapsed: 25.0min\n",
            "[Parallel(n_jobs=-1)]: Done  66 tasks      | elapsed: 26.2min\n",
            "[Parallel(n_jobs=-1)]: Done  67 tasks      | elapsed: 26.6min\n",
            "[Parallel(n_jobs=-1)]: Done  68 tasks      | elapsed: 27.5min\n",
            "[Parallel(n_jobs=-1)]: Done  69 tasks      | elapsed: 27.8min\n",
            "[Parallel(n_jobs=-1)]: Done  70 tasks      | elapsed: 28.2min\n",
            "[Parallel(n_jobs=-1)]: Done  71 tasks      | elapsed: 28.5min\n",
            "[Parallel(n_jobs=-1)]: Done  72 tasks      | elapsed: 28.7min\n",
            "[Parallel(n_jobs=-1)]: Done  73 tasks      | elapsed: 28.8min\n",
            "[Parallel(n_jobs=-1)]: Done  74 tasks      | elapsed: 29.1min\n",
            "[Parallel(n_jobs=-1)]: Done  75 tasks      | elapsed: 29.1min\n",
            "[Parallel(n_jobs=-1)]: Done  76 tasks      | elapsed: 29.3min\n",
            "[Parallel(n_jobs=-1)]: Done  77 tasks      | elapsed: 29.3min\n",
            "[Parallel(n_jobs=-1)]: Done  78 tasks      | elapsed: 29.4min\n",
            "[Parallel(n_jobs=-1)]: Done  79 tasks      | elapsed: 29.5min\n",
            "[Parallel(n_jobs=-1)]: Done  80 tasks      | elapsed: 29.6min\n",
            "[Parallel(n_jobs=-1)]: Done  81 tasks      | elapsed: 31.1min\n",
            "[Parallel(n_jobs=-1)]: Done  82 tasks      | elapsed: 31.3min\n",
            "[Parallel(n_jobs=-1)]: Done  83 tasks      | elapsed: 32.8min\n",
            "[Parallel(n_jobs=-1)]: Done  84 tasks      | elapsed: 32.9min\n",
            "[Parallel(n_jobs=-1)]: Done  85 tasks      | elapsed: 33.1min\n",
            "[Parallel(n_jobs=-1)]: Done  86 tasks      | elapsed: 33.4min\n",
            "[Parallel(n_jobs=-1)]: Done  87 tasks      | elapsed: 33.6min\n",
            "[Parallel(n_jobs=-1)]: Done  88 tasks      | elapsed: 33.8min\n",
            "[Parallel(n_jobs=-1)]: Done  89 tasks      | elapsed: 34.0min\n",
            "[Parallel(n_jobs=-1)]: Done  90 tasks      | elapsed: 34.1min\n",
            "[Parallel(n_jobs=-1)]: Done  91 tasks      | elapsed: 34.2min\n",
            "[Parallel(n_jobs=-1)]: Done  92 tasks      | elapsed: 34.2min\n",
            "[Parallel(n_jobs=-1)]: Done  93 tasks      | elapsed: 34.3min\n",
            "[Parallel(n_jobs=-1)]: Done  94 tasks      | elapsed: 34.4min\n",
            "[Parallel(n_jobs=-1)]: Done  95 tasks      | elapsed: 34.5min\n",
            "[Parallel(n_jobs=-1)]: Done  96 tasks      | elapsed: 34.7min\n",
            "[Parallel(n_jobs=-1)]: Done  97 tasks      | elapsed: 34.8min\n",
            "[Parallel(n_jobs=-1)]: Done  98 tasks      | elapsed: 35.0min\n",
            "[Parallel(n_jobs=-1)]: Done  99 tasks      | elapsed: 35.0min\n",
            "[Parallel(n_jobs=-1)]: Done 100 tasks      | elapsed: 35.3min\n",
            "[Parallel(n_jobs=-1)]: Done 101 tasks      | elapsed: 35.5min\n",
            "[Parallel(n_jobs=-1)]: Done 102 tasks      | elapsed: 35.7min\n",
            "[Parallel(n_jobs=-1)]: Done 103 tasks      | elapsed: 35.9min\n",
            "[Parallel(n_jobs=-1)]: Done 104 tasks      | elapsed: 36.1min\n",
            "[Parallel(n_jobs=-1)]: Done 105 tasks      | elapsed: 36.3min\n",
            "[Parallel(n_jobs=-1)]: Done 106 tasks      | elapsed: 36.4min\n",
            "[Parallel(n_jobs=-1)]: Done 107 tasks      | elapsed: 36.7min\n",
            "[Parallel(n_jobs=-1)]: Done 108 tasks      | elapsed: 36.7min\n",
            "[Parallel(n_jobs=-1)]: Done 109 tasks      | elapsed: 36.9min\n",
            "[Parallel(n_jobs=-1)]: Done 110 tasks      | elapsed: 37.0min\n",
            "[Parallel(n_jobs=-1)]: Done 111 tasks      | elapsed: 39.4min\n",
            "[Parallel(n_jobs=-1)]: Done 112 tasks      | elapsed: 39.6min\n",
            "[Parallel(n_jobs=-1)]: Done 113 tasks      | elapsed: 42.0min\n",
            "[Parallel(n_jobs=-1)]: Done 114 tasks      | elapsed: 42.1min\n",
            "[Parallel(n_jobs=-1)]: Done 115 tasks      | elapsed: 44.4min\n",
            "[Parallel(n_jobs=-1)]: Done 116 tasks      | elapsed: 44.5min\n",
            "[Parallel(n_jobs=-1)]: Done 117 tasks      | elapsed: 46.6min\n",
            "[Parallel(n_jobs=-1)]: Done 118 tasks      | elapsed: 46.7min\n",
            "[Parallel(n_jobs=-1)]: Done 119 tasks      | elapsed: 48.7min\n",
            "[Parallel(n_jobs=-1)]: Done 120 tasks      | elapsed: 48.9min\n",
            "[Parallel(n_jobs=-1)]: Done 121 tasks      | elapsed: 49.2min\n",
            "[Parallel(n_jobs=-1)]: Done 122 tasks      | elapsed: 49.4min\n",
            "[Parallel(n_jobs=-1)]: Done 123 tasks      | elapsed: 49.6min\n",
            "[Parallel(n_jobs=-1)]: Done 124 tasks      | elapsed: 49.9min\n",
            "[Parallel(n_jobs=-1)]: Done 125 tasks      | elapsed: 50.1min\n",
            "[Parallel(n_jobs=-1)]: Done 126 tasks      | elapsed: 52.7min\n",
            "[Parallel(n_jobs=-1)]: Done 127 tasks      | elapsed: 52.8min\n"
          ],
          "name": "stderr"
        }
      ]
    },
    {
      "cell_type": "code",
      "metadata": {
        "id": "NO7--lUgNc_t",
        "colab_type": "code",
        "colab": {}
      },
      "source": [
        "print('Cross-validation Best Score', search.best_score_)\n",
        "print('Best Estimator', search.best_params_)"
      ],
      "execution_count": null,
      "outputs": []
    },
    {
      "cell_type": "code",
      "metadata": {
        "id": "9Zd-oCAgLZMG",
        "colab_type": "code",
        "colab": {}
      },
      "source": [
        ""
      ],
      "execution_count": null,
      "outputs": []
    }
  ]
}